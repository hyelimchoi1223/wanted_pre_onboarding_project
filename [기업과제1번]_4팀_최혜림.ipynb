{
  "nbformat": 4,
  "nbformat_minor": 0,
  "metadata": {
    "colab": {
      "name": "[기업과제1번] 4팀_최혜림.ipynb",
      "provenance": [],
      "authorship_tag": "ABX9TyOuWu5axUWM1zd79RGPC7T2",
      "include_colab_link": true
    },
    "kernelspec": {
      "name": "python3",
      "display_name": "Python 3"
    },
    "language_info": {
      "name": "python"
    }
  },
  "cells": [
    {
      "cell_type": "markdown",
      "metadata": {
        "id": "view-in-github",
        "colab_type": "text"
      },
      "source": [
        "<a href=\"https://colab.research.google.com/github/hyelimchoi1223/wanted_pre_onboarding_project/blob/main/%5B%EA%B8%B0%EC%97%85%EA%B3%BC%EC%A0%9C1%EB%B2%88%5D_4%ED%8C%80_%EC%B5%9C%ED%98%9C%EB%A6%BC.ipynb\" target=\"_parent\"><img src=\"https://colab.research.google.com/assets/colab-badge.svg\" alt=\"Open In Colab\"/></a>"
      ]
    },
    {
      "cell_type": "markdown",
      "source": [
        "# 입력\n",
        "* 첫째 줄에 집합 S의 크기 N이 주어진다. (1 ≤ N ≤ 1000)\n",
        "* 다음 N개 줄에 집합 S의 원소들이 주어진다. 이 문자열의 길이는 100을 넘지 않는다.\n",
        "* 다음 줄에 답을 판별해야 하는 문자열의 개수 Q가 주어진다. (1 ≤ Q ≤ 1000)\n",
        "* 다음 Q개 줄에 답을 판별해야 하는 문자열이 주어진다. 이 문자열의 길이는 10000을 넘지 않는다.\n",
        "* 입력으로 주어지는 모든 문자열은 알파벳 소문자로만 이루어져 있다.\n",
        "\n",
        "\n",
        "# 출력\n",
        "Q개 줄에 각 문자열에 대한 답을 출력한다."
      ],
      "metadata": {
        "id": "GyDcKzAnkhoI"
      }
    },
    {
      "cell_type": "code",
      "source": [
        "N = int(input())\n",
        "S = input().split(\",\")\n",
        "S = [s.strip() for s in S]\n",
        "\n",
        "if N != len(S):\n",
        "  print(\"문자열 집합 S의 원소 개수가 다릅니다.\")\n",
        "\n",
        "Q = int(input())\n",
        "matching_text = input().split(\",\")\n",
        "matching_text = [m.strip() for m in matching_text]\n",
        "\n",
        "if Q != len(matching_text):\n",
        "  print(\"매칭 대상 문자열 개수가 다릅니다.\")"
      ],
      "metadata": {
        "colab": {
          "base_uri": "https://localhost:8080/"
        },
        "id": "roICQVIPkgdY",
        "outputId": "034eebb1-9992-4dfa-b17a-abe56091e657"
      },
      "execution_count": 49,
      "outputs": [
        {
          "name": "stdout",
          "output_type": "stream",
          "text": [
            "9\n",
            "aaa,aaaabb, aabbcc, abb, bcc, bbcc, aabbccdd, aaabb, cccd\n",
            "2\n",
            "aaaabbaabbccdd, aaaabbaabbccccdd\n"
          ]
        }
      ]
    },
    {
      "cell_type": "markdown",
      "source": [
        "# 1. 문자열의 여러 부분 문자열 중 하나라도 집합 S에 있으면 'YES'를 출력하고, 아무것도 없으면 'NO'를 출력한다."
      ],
      "metadata": {
        "id": "DGOind1xif24"
      }
    },
    {
      "cell_type": "code",
      "execution_count": 50,
      "metadata": {
        "colab": {
          "base_uri": "https://localhost:8080/"
        },
        "id": "_tJbvGZxhzDr",
        "outputId": "3db921db-0429-4771-f91a-5f46e4e4d574"
      },
      "outputs": [
        {
          "output_type": "stream",
          "name": "stdout",
          "text": [
            "YES, YES, YES, YES, YES, YES, YES, YES, NO\n",
            "YES, YES, YES, YES, YES, YES, NO, YES, YES\n"
          ]
        }
      ],
      "source": [
        "for text in matching_text:\n",
        "  answer = [\"YES\" if s in text else \"NO\" for s in S]\n",
        "  print(', '.join(answer))"
      ]
    },
    {
      "cell_type": "markdown",
      "source": [
        "# 2. 주어진 문자열의 여러부분 문자열 중 처음 매칭된 패턴과 문자열 시작 포지션을 출력한다."
      ],
      "metadata": {
        "id": "zTLMVQdpr781"
      }
    },
    {
      "cell_type": "code",
      "source": [
        "import re"
      ],
      "metadata": {
        "id": "laFCuYnQsI3x"
      },
      "execution_count": 51,
      "outputs": []
    },
    {
      "cell_type": "code",
      "source": [
        "for text in matching_text:\n",
        "  print(f\"매칭 대상 문자열: {text}\")\n",
        "  for s in S:\n",
        "    m = re.search(s,text)\n",
        "    if m:\n",
        "      print(f\"#pos={m.start()}, pattern={m.group(0)}\")\n"
      ],
      "metadata": {
        "colab": {
          "base_uri": "https://localhost:8080/"
        },
        "id": "gE5JKjtIsGEc",
        "outputId": "4777217f-6982-4814-f73b-d4e4ab75cc4c"
      },
      "execution_count": 52,
      "outputs": [
        {
          "output_type": "stream",
          "name": "stdout",
          "text": [
            "매칭 대상 문자열: aaaabbaabbccdd\n",
            "#pos=0, pattern=aaa\n",
            "#pos=0, pattern=aaaabb\n",
            "#pos=6, pattern=aabbcc\n",
            "#pos=3, pattern=abb\n",
            "#pos=9, pattern=bcc\n",
            "#pos=8, pattern=bbcc\n",
            "#pos=6, pattern=aabbccdd\n",
            "#pos=1, pattern=aaabb\n",
            "매칭 대상 문자열: aaaabbaabbccccdd\n",
            "#pos=0, pattern=aaa\n",
            "#pos=0, pattern=aaaabb\n",
            "#pos=6, pattern=aabbcc\n",
            "#pos=3, pattern=abb\n",
            "#pos=9, pattern=bcc\n",
            "#pos=8, pattern=bbcc\n",
            "#pos=1, pattern=aaabb\n",
            "#pos=11, pattern=cccd\n"
          ]
        }
      ]
    },
    {
      "cell_type": "markdown",
      "source": [
        "# 3. 주어진 문자열의 여러부분 문자열 중 매칭 가능한 모든 패턴과 문자열 시작 포지션을 출력한다."
      ],
      "metadata": {
        "id": "M4b6Bgzp2ZaR"
      }
    },
    {
      "cell_type": "code",
      "source": [
        "for text in matching_text:\n",
        "  print(f\"매칭 대상 문자열: {text}\")\n",
        "  for s in S:\n",
        "    before_index = -1\n",
        "    for i in range(len(text)):\n",
        "      if before_index == text.find(s, i):\n",
        "        continue\n",
        "      before_index = text.find(s, i)\n",
        "      if before_index >= 0:\n",
        "        print(f\"#pos={before_index}, pattern={s}\")"
      ],
      "metadata": {
        "colab": {
          "base_uri": "https://localhost:8080/"
        },
        "id": "LipwKkkz2ZG9",
        "outputId": "6588c03d-cf0a-4b48-df29-988ae7ffe188"
      },
      "execution_count": 69,
      "outputs": [
        {
          "output_type": "stream",
          "name": "stdout",
          "text": [
            "매칭 대상 문자열: aaaabbaabbccdd\n",
            "#pos=0, pattern=aaa\n",
            "#pos=1, pattern=aaa\n",
            "#pos=0, pattern=aaaabb\n",
            "#pos=6, pattern=aabbcc\n",
            "#pos=3, pattern=abb\n",
            "#pos=7, pattern=abb\n",
            "#pos=9, pattern=bcc\n",
            "#pos=8, pattern=bbcc\n",
            "#pos=6, pattern=aabbccdd\n",
            "#pos=1, pattern=aaabb\n",
            "매칭 대상 문자열: aaaabbaabbccccdd\n",
            "#pos=0, pattern=aaa\n",
            "#pos=1, pattern=aaa\n",
            "#pos=0, pattern=aaaabb\n",
            "#pos=6, pattern=aabbcc\n",
            "#pos=3, pattern=abb\n",
            "#pos=7, pattern=abb\n",
            "#pos=9, pattern=bcc\n",
            "#pos=8, pattern=bbcc\n",
            "#pos=1, pattern=aaabb\n",
            "#pos=11, pattern=cccd\n"
          ]
        }
      ]
    }
  ]
}