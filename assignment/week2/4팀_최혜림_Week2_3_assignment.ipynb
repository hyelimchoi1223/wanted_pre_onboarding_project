{
  "cells": [
    {
      "cell_type": "markdown",
      "metadata": {
        "id": "view-in-github",
        "colab_type": "text"
      },
      "source": [
        "<a href=\"https://colab.research.google.com/github/hyelimchoi1223/wanted_pre_onboarding_project/blob/main/assignment/4%ED%8C%80_%EC%B5%9C%ED%98%9C%EB%A6%BC_Week2_3_assignment.ipynb\" target=\"_parent\"><img src=\"https://colab.research.google.com/assets/colab-badge.svg\" alt=\"Open In Colab\"/></a>"
      ]
    },
    {
      "cell_type": "markdown",
      "metadata": {
        "id": "592U6lXs3d2t"
      },
      "source": [
        "# Week2_3 Assignment\n",
        "\n",
        "## [BASIC](#Basic) \n",
        "- **Custom Dataset 클래스를 구현**할 수 있다.\n",
        "- train_dataset, valid_dataset으로 데이터셋을 나눌 수 있다.\n",
        "\n",
        "\n",
        "## [CHALLENGE](#Challenge)\n",
        "- **dynamic padding**을 만드는 `collate_fn`을 구현할 수 있다. \n",
        "- `DataLoader` 클래스를 사용해 **train_dataloaer와 valid_dataloader**를 만들 수 있다.\n",
        "\n",
        "\n",
        "## [ADVANCED](#Advanced)\n",
        "- 기존 코드의 data_iterator를 **data_loader로 대체**해 학습을 실행할 수 있다.\n",
        "\n",
        "### Reference\n",
        "-[DataLoader pytorch official document](https://pytorch.org/docs/stable/data.html#torch.utils.data.DataLoader)   \n",
        "-[collate_fn 설명 영문 블로그](https://androidkt.com/create-dataloader-with-collate_fn-for-variable-length-input-in-pytorch/)   \n",
        "-[dynamic padding 설명 영문 블로그](https://mccormickml.com/2020/07/29/smart-batching-tutorial/#dynamic-padding)   \n"
      ]
    },
    {
      "cell_type": "code",
      "execution_count": null,
      "metadata": {
        "id": "KSX-wQA1RD1h"
      },
      "outputs": [],
      "source": [
        "import os\n",
        "import sys\n",
        "import pandas as pd\n",
        "import numpy as np \n",
        "import torch\n",
        "import random"
      ]
    },
    {
      "cell_type": "code",
      "execution_count": null,
      "metadata": {
        "id": "LNd-mYD5k2tb"
      },
      "outputs": [],
      "source": [
        "# seed\n",
        "seed = 7777\n",
        "random.seed(seed)\n",
        "torch.manual_seed(seed)\n",
        "torch.cuda.manual_seed_all(seed)"
      ]
    },
    {
      "cell_type": "code",
      "execution_count": null,
      "metadata": {
        "id": "gUR6vb3L3d2u",
        "colab": {
          "base_uri": "https://localhost:8080/"
        },
        "outputId": "d6c54450-7c9f-4b46-e92d-f7f99ad8d677"
      },
      "outputs": [
        {
          "output_type": "stream",
          "name": "stdout",
          "text": [
            "# available GPUs : 1\n",
            "GPU name : Tesla T4\n",
            "cuda\n"
          ]
        }
      ],
      "source": [
        "# device type\n",
        "if torch.cuda.is_available():\n",
        "    device = torch.device(\"cuda\")\n",
        "    print(f\"# available GPUs : {torch.cuda.device_count()}\")\n",
        "    print(f\"GPU name : {torch.cuda.get_device_name()}\")\n",
        "else:\n",
        "    device = torch.device(\"cpu\")\n",
        "print(device)"
      ]
    },
    {
      "cell_type": "markdown",
      "metadata": {
        "id": "0REKl4EvT9G1"
      },
      "source": [
        "## Basic"
      ]
    },
    {
      "cell_type": "markdown",
      "metadata": {
        "id": "2yeMAUqqk2td"
      },
      "source": [
        "### 데이터 로드 및 결측치 제거 (복습)\n",
        "- 해당 링크에서 `sample_df` 데이터 프레임을 로드하자\n",
        "  - df의 개수는 10,000개이다."
      ]
    },
    {
      "cell_type": "code",
      "source": [
        "!wget https://raw.githubusercontent.com/ChristinaROK/PreOnboarding_AI_assets/e56006adfac42f8a2975db0ebbe60eacbe1c6b11/data/sample_df.csv"
      ],
      "metadata": {
        "id": "-2Ox_QgoIW7m",
        "colab": {
          "base_uri": "https://localhost:8080/"
        },
        "outputId": "5d7419d2-0be9-47a9-9d5d-76a0bbd636bf"
      },
      "execution_count": null,
      "outputs": [
        {
          "output_type": "stream",
          "name": "stdout",
          "text": [
            "--2022-03-02 04:27:04--  https://raw.githubusercontent.com/ChristinaROK/PreOnboarding_AI_assets/e56006adfac42f8a2975db0ebbe60eacbe1c6b11/data/sample_df.csv\n",
            "Resolving raw.githubusercontent.com (raw.githubusercontent.com)... 185.199.109.133, 185.199.110.133, 185.199.108.133, ...\n",
            "Connecting to raw.githubusercontent.com (raw.githubusercontent.com)|185.199.109.133|:443... connected.\n",
            "HTTP request sent, awaiting response... 200 OK\n",
            "Length: 971625 (949K) [text/plain]\n",
            "Saving to: ‘sample_df.csv’\n",
            "\n",
            "\rsample_df.csv         0%[                    ]       0  --.-KB/s               \rsample_df.csv       100%[===================>] 948.85K  --.-KB/s    in 0.01s   \n",
            "\n",
            "2022-03-02 04:27:04 (96.4 MB/s) - ‘sample_df.csv’ saved [971625/971625]\n",
            "\n"
          ]
        }
      ]
    },
    {
      "cell_type": "code",
      "source": [
        "sample_df = pd.read_csv('sample_df.csv')"
      ],
      "metadata": {
        "id": "zNHz7RtDIdTa"
      },
      "execution_count": null,
      "outputs": []
    },
    {
      "cell_type": "code",
      "source": [
        "sample_df = sample_df.dropna(axis=0, how='any')"
      ],
      "metadata": {
        "id": "eqQb8hyjo7Lr"
      },
      "execution_count": null,
      "outputs": []
    },
    {
      "cell_type": "code",
      "source": [
        "sample_df.isnull().sum()"
      ],
      "metadata": {
        "colab": {
          "base_uri": "https://localhost:8080/"
        },
        "id": "L22ogWFa4njw",
        "outputId": "fb3cc762-e930-42c9-e708-a8a882d21492"
      },
      "execution_count": null,
      "outputs": [
        {
          "output_type": "execute_result",
          "data": {
            "text/plain": [
              "id          0\n",
              "document    0\n",
              "label       0\n",
              "dtype: int64"
            ]
          },
          "metadata": {},
          "execution_count": 9
        }
      ]
    },
    {
      "cell_type": "code",
      "source": [
        "print(f\"Shape: {sample_df.shape}\\nLabel : {sample_df.label.value_counts()}\")"
      ],
      "metadata": {
        "id": "XZoLAT-_JGdM",
        "colab": {
          "base_uri": "https://localhost:8080/"
        },
        "outputId": "e1007cb7-a90c-4402-d70f-2c77d50a4314"
      },
      "execution_count": null,
      "outputs": [
        {
          "output_type": "stream",
          "name": "stdout",
          "text": [
            "Shape: (10000, 3)\n",
            "Label : 0    5000\n",
            "1    5000\n",
            "Name: label, dtype: int64\n"
          ]
        }
      ]
    },
    {
      "cell_type": "markdown",
      "metadata": {
        "id": "lzUp9Z6Hk2tk"
      },
      "source": [
        "### `CustomDataset `클래스 구현\n",
        "- 클래스 정의\n",
        "  - 생성자 입력 매개변수 \n",
        "    - `input_data` : 리뷰 텍스트 리스트\n",
        "    - `target_data` : 레이블 (0 또는 1) list\n",
        "  - 생성자에서 생성할 변수\n",
        "    - `X` : `input_data`\n",
        "    - `Y` : `target_data`\n",
        "  - 메소드 \n",
        "    - `__len__()`\n",
        "      - 데이터 총 개수를 반환\n",
        "    - `__getitem__()`\n",
        "      - 해당 인덱스의 (input_data, target_data) 튜플을 반환\n",
        "  - 주의 사항\n",
        "    - `torch.utils.data.Dataset()` 클래스를 부모 클래스로 상속받아 구현한다.  "
      ]
    },
    {
      "cell_type": "code",
      "execution_count": null,
      "metadata": {
        "id": "ufvK9o1y75es"
      },
      "outputs": [],
      "source": [
        "from torch.utils.data import Dataset, DataLoader, RandomSampler, SequentialSampler, random_split"
      ]
    },
    {
      "cell_type": "code",
      "execution_count": null,
      "metadata": {
        "id": "kpJuYP5k75et"
      },
      "outputs": [],
      "source": [
        "class CustomDataset(Dataset):\n",
        "  \"\"\"\n",
        "  - input_data: list of string\n",
        "  - target_data: list of int\n",
        "  \"\"\"\n",
        "\n",
        "  def __init__(self, input_data:list, target_data:list) -> None:\n",
        "      self.X = input_data\n",
        "      self.Y = target_data\n",
        "\n",
        "  def __len__(self):\n",
        "      return len(self.Y)\n",
        "\n",
        "  def __getitem__(self, index):\n",
        "      return self.X[index], self.Y[index]"
      ]
    },
    {
      "cell_type": "code",
      "execution_count": null,
      "metadata": {
        "id": "O1IfgQ3i75et"
      },
      "outputs": [],
      "source": [
        "dataset = CustomDataset(sample_df.document.tolist(), sample_df.label.tolist())"
      ]
    },
    {
      "cell_type": "code",
      "source": [
        "dataset[0]"
      ],
      "metadata": {
        "colab": {
          "base_uri": "https://localhost:8080/"
        },
        "id": "SieyuA7SDeRs",
        "outputId": "78c7008c-fb33-4297-c193-06ba25ee8086"
      },
      "execution_count": null,
      "outputs": [
        {
          "output_type": "execute_result",
          "data": {
            "text/plain": [
              "('나 이거 더빙을 누가하는지 모르고 봤는데 왠지 더빙이 구리더라...더빙이 너무 별로였음.', 0)"
            ]
          },
          "metadata": {},
          "execution_count": 89
        }
      ]
    },
    {
      "cell_type": "code",
      "execution_count": null,
      "metadata": {
        "id": "yUX4isDB75et",
        "colab": {
          "base_uri": "https://localhost:8080/"
        },
        "outputId": "269a415b-2be9-4cdb-9887-3edf37bdb7fc"
      },
      "outputs": [
        {
          "output_type": "execute_result",
          "data": {
            "text/plain": [
              "10000"
            ]
          },
          "metadata": {},
          "execution_count": 90
        }
      ],
      "source": [
        "# 데이터 셋 총 개수 확인 가능\n",
        "len(dataset)"
      ]
    },
    {
      "cell_type": "markdown",
      "metadata": {
        "id": "EYl3lxKAk2to"
      },
      "source": [
        "###  `torch.utils.data.random_split` 함수를 사용해 데이터셋을 train, valid로 분리\n",
        "- 데이터 비율은 `train : valid = 9 : 1`으로 분리하라"
      ]
    },
    {
      "cell_type": "code",
      "execution_count": null,
      "metadata": {
        "id": "XMQKBb1j75et"
      },
      "outputs": [],
      "source": [
        "n_train = len(dataset) // 10 * 9\n",
        "n_valid = len(dataset) // 10 * 1"
      ]
    },
    {
      "cell_type": "code",
      "execution_count": null,
      "metadata": {
        "id": "ykrmlQc775et"
      },
      "outputs": [],
      "source": [
        "train_dataset, valid_dataset = random_split(dataset, [n_train, n_valid])"
      ]
    },
    {
      "cell_type": "code",
      "execution_count": null,
      "metadata": {
        "id": "hAVrFb1575et",
        "colab": {
          "base_uri": "https://localhost:8080/"
        },
        "outputId": "2d075855-82d1-4eeb-ccb9-0668dc212fc5"
      },
      "outputs": [
        {
          "output_type": "execute_result",
          "data": {
            "text/plain": [
              "9000"
            ]
          },
          "metadata": {},
          "execution_count": 93
        }
      ],
      "source": [
        "len(train_dataset)"
      ]
    },
    {
      "cell_type": "code",
      "execution_count": null,
      "metadata": {
        "id": "xXqW0CTB75et",
        "colab": {
          "base_uri": "https://localhost:8080/"
        },
        "outputId": "4fd16c02-a762-4115-90a9-274976083d59"
      },
      "outputs": [
        {
          "output_type": "execute_result",
          "data": {
            "text/plain": [
              "1000"
            ]
          },
          "metadata": {},
          "execution_count": 94
        }
      ],
      "source": [
        "len(valid_dataset)"
      ]
    },
    {
      "cell_type": "markdown",
      "metadata": {
        "id": "qT05JmBQk2tp"
      },
      "source": [
        "## Challenge"
      ]
    },
    {
      "cell_type": "markdown",
      "metadata": {
        "id": "_BmAN83Ck2tq"
      },
      "source": [
        "### dynamic padding을 구현하는  `custom_collate_fn` 함수 구현 \n",
        "- batch (`List[Tuple(input, target)]`)를 입력받아 토크나이즈한 후 텐서 형태로 변형해 반환 ( `Tuple(Tensor(tokenized_input), Tensor(target))`)하는 `collate_fn()` 함수를 구현하라. \n",
        "- 함수 정의\n",
        "  - 입력 매개변수\n",
        "    - `batch` : (input(string), target(int)) 튜플을 담고 있는 리스트.  만약 `batch_size`가 32라면 리스트는 32개의 튜플을 갖고 있다. \n",
        "  - 조건\n",
        "    - input\n",
        "      - [BERT Tokenizer](https://huggingface.co/docs/transformers/main_classes/tokenizer#transformers.PreTrainedTokenizer) 클래스의 `__call__()` 메소드 사용 방법을 읽고, `__call__()` 파라미터를 조정해 dynamic padding을 구현한다.\n",
        "      - 토크나이즈할 때 한 배치내 인풋들의 토큰 개수는 모두 동일할 수 있도록하라. 이때, 가장 긴 토큰을 가지고 있는 인풋을 기준으로 토큰 개수를 맞춘다. 즉, 토큰 개수가 모자란 인풋은 `[PAD]` 토큰을 추가한다. (이를 **dynamic padding**이라고 한다.) \n",
        "      - 토크나이저에서 반환된 값은 Tensor 타입이어야 한다. \n",
        "    - target\n",
        "      - target은 Tensor 타입으로 변형한다.\n",
        "  - 반환값\n",
        "    - (tensorized_input, tensorized_label) 튜플"
      ]
    },
    {
      "cell_type": "code",
      "execution_count": null,
      "metadata": {
        "id": "q-tJERGI4Fzk",
        "scrolled": true,
        "colab": {
          "base_uri": "https://localhost:8080/"
        },
        "outputId": "dbca4a22-ed6f-4cf4-c193-e7b953bebab1"
      },
      "outputs": [
        {
          "output_type": "stream",
          "name": "stdout",
          "text": [
            "Requirement already satisfied: transformers in /usr/local/lib/python3.7/dist-packages (4.16.2)\n",
            "Requirement already satisfied: sacremoses in /usr/local/lib/python3.7/dist-packages (from transformers) (0.0.47)\n",
            "Requirement already satisfied: packaging>=20.0 in /usr/local/lib/python3.7/dist-packages (from transformers) (21.3)\n",
            "Requirement already satisfied: requests in /usr/local/lib/python3.7/dist-packages (from transformers) (2.23.0)\n",
            "Requirement already satisfied: huggingface-hub<1.0,>=0.1.0 in /usr/local/lib/python3.7/dist-packages (from transformers) (0.4.0)\n",
            "Requirement already satisfied: pyyaml>=5.1 in /usr/local/lib/python3.7/dist-packages (from transformers) (6.0)\n",
            "Requirement already satisfied: regex!=2019.12.17 in /usr/local/lib/python3.7/dist-packages (from transformers) (2019.12.20)\n",
            "Requirement already satisfied: numpy>=1.17 in /usr/local/lib/python3.7/dist-packages (from transformers) (1.21.5)\n",
            "Requirement already satisfied: importlib-metadata in /usr/local/lib/python3.7/dist-packages (from transformers) (4.11.1)\n",
            "Requirement already satisfied: tokenizers!=0.11.3,>=0.10.1 in /usr/local/lib/python3.7/dist-packages (from transformers) (0.11.6)\n",
            "Requirement already satisfied: filelock in /usr/local/lib/python3.7/dist-packages (from transformers) (3.6.0)\n",
            "Requirement already satisfied: tqdm>=4.27 in /usr/local/lib/python3.7/dist-packages (from transformers) (4.62.3)\n",
            "Requirement already satisfied: typing-extensions>=3.7.4.3 in /usr/local/lib/python3.7/dist-packages (from huggingface-hub<1.0,>=0.1.0->transformers) (3.10.0.2)\n",
            "Requirement already satisfied: pyparsing!=3.0.5,>=2.0.2 in /usr/local/lib/python3.7/dist-packages (from packaging>=20.0->transformers) (3.0.7)\n",
            "Requirement already satisfied: zipp>=0.5 in /usr/local/lib/python3.7/dist-packages (from importlib-metadata->transformers) (3.7.0)\n",
            "Requirement already satisfied: chardet<4,>=3.0.2 in /usr/local/lib/python3.7/dist-packages (from requests->transformers) (3.0.4)\n",
            "Requirement already satisfied: idna<3,>=2.5 in /usr/local/lib/python3.7/dist-packages (from requests->transformers) (2.10)\n",
            "Requirement already satisfied: certifi>=2017.4.17 in /usr/local/lib/python3.7/dist-packages (from requests->transformers) (2021.10.8)\n",
            "Requirement already satisfied: urllib3!=1.25.0,!=1.25.1,<1.26,>=1.21.1 in /usr/local/lib/python3.7/dist-packages (from requests->transformers) (1.24.3)\n",
            "Requirement already satisfied: click in /usr/local/lib/python3.7/dist-packages (from sacremoses->transformers) (7.1.2)\n",
            "Requirement already satisfied: six in /usr/local/lib/python3.7/dist-packages (from sacremoses->transformers) (1.15.0)\n",
            "Requirement already satisfied: joblib in /usr/local/lib/python3.7/dist-packages (from sacremoses->transformers) (1.1.0)\n"
          ]
        }
      ],
      "source": [
        "!pip install transformers"
      ]
    },
    {
      "cell_type": "code",
      "execution_count": null,
      "metadata": {
        "id": "JlcYCOyW3d2t"
      },
      "outputs": [],
      "source": [
        "from transformers import BertTokenizer, BertModel"
      ]
    },
    {
      "cell_type": "code",
      "execution_count": null,
      "metadata": {
        "id": "C_U_c-Mf3d2t"
      },
      "outputs": [],
      "source": [
        "tokenizer_bert = BertTokenizer.from_pretrained(\"klue/bert-base\")"
      ]
    },
    {
      "cell_type": "code",
      "execution_count": null,
      "metadata": {
        "id": "bqGJ0ryq75eu"
      },
      "outputs": [],
      "source": [
        "def custom_collate_fn(batch):\n",
        "    \"\"\"\n",
        "    - batch: list of tuples (input_data(string), target_data(int))\n",
        "    \n",
        "    한 배치 내 문장들을 tokenizing 한 후 텐서로 변환함. \n",
        "    이때, dynamic padding (즉, 같은 배치 내 토큰의 개수가 동일할 수 있도록, 부족한 문장에 [PAD] 토큰을 추가하는 작업)을 적용\n",
        "    토큰 개수는 배치 내 가장 긴 문장으로 해야함.\n",
        "    또한 최대 길이를 넘는 문장은 최대 길이 이후의 토큰을 제거하도록 해야 함\n",
        "    토크나이즈된 결과 값은 텐서 형태로 반환하도록 해야 함\n",
        "    \n",
        "    한 배치 내 레이블(target)은 텐서화 함.\n",
        "    \n",
        "    (input, target) 튜플 형태를 반환.\n",
        "    \"\"\"\n",
        "    global tokenizer_bert\n",
        "    input_list, target_list = [], []\n",
        "    for input, target in batch:\n",
        "        input_list.append(input)\n",
        "        target_list.append(target)\n",
        "\n",
        "    tensorized_input = tokenizer_bert(input_list,\n",
        "                                        add_special_tokens=True,\n",
        "                                        return_tensors='pt',\n",
        "                                        padding=\"longest\",\n",
        "                                        truncation=True)\n",
        "                                        \n",
        "    \n",
        "    tensorized_label = torch.tensor(target_list)\n",
        "    return tensorized_input, tensorized_label\n",
        "    "
      ]
    },
    {
      "cell_type": "markdown",
      "metadata": {
        "id": "OLANqpNc75eu"
      },
      "source": [
        "### 위에서 구현한 `custom_collate_fn`함수를 적용해 DataLoader 인스턴스 생성\n",
        "- `train_dataloader`\n",
        "    - batch_size = 32\n",
        "    - collate_fn = 위에서 구현한 함수\n",
        "    - sampler = `RandomSampler()`\n",
        "        - `train_dataset`의 학습 데이터를 셔플링 함\n",
        "- `valid_dataloader`\n",
        "    - batch_size = 64\n",
        "    - collate_fn = 위에서 구현한 함수\n",
        "    - sampler = `SequentialSampler()`\n",
        "        - `valid_dataset`의 검증 데이터를 순차적으로 정렬함 (셔플X)"
      ]
    },
    {
      "cell_type": "code",
      "source": [
        "train_sampler = RandomSampler(train_dataset)\n",
        "valid_sample = SequentialSampler(valid_dataset)"
      ],
      "metadata": {
        "id": "rFNWJMH9GX9U"
      },
      "execution_count": null,
      "outputs": []
    },
    {
      "cell_type": "code",
      "execution_count": null,
      "metadata": {
        "id": "HO_HuNa-75eu"
      },
      "outputs": [],
      "source": [
        "train_dataloader = DataLoader(train_dataset, batch_size=32,sampler=train_sampler, collate_fn=custom_collate_fn)\n",
        "valid_dataloader = DataLoader(valid_dataset, batch_size=64, sampler=valid_sample, collate_fn=custom_collate_fn)"
      ]
    },
    {
      "cell_type": "code",
      "source": [
        "# 배치마다 토큰 길이가 다른 것을 확인\n",
        "for idx, (input_batch, target_batch) in enumerate(train_dataloader):\n",
        "    print(f\"Batch input shape: {input_batch['input_ids'].shape}\")\n",
        "    print(f\"Batch target shape: {target_batch.shape}\")"
      ],
      "metadata": {
        "colab": {
          "base_uri": "https://localhost:8080/"
        },
        "id": "n7_hhYF97_Om",
        "outputId": "13fa192e-33d0-49db-e894-2b15cebb9cbd"
      },
      "execution_count": null,
      "outputs": [
        {
          "output_type": "stream",
          "name": "stdout",
          "text": [
            "Batch input shape: torch.Size([32, 97])\n",
            "Batch target shape: torch.Size([32])\n",
            "Batch input shape: torch.Size([32, 78])\n",
            "Batch target shape: torch.Size([32])\n",
            "Batch input shape: torch.Size([32, 74])\n",
            "Batch target shape: torch.Size([32])\n",
            "Batch input shape: torch.Size([32, 75])\n",
            "Batch target shape: torch.Size([32])\n",
            "Batch input shape: torch.Size([32, 74])\n",
            "Batch target shape: torch.Size([32])\n",
            "Batch input shape: torch.Size([32, 74])\n",
            "Batch target shape: torch.Size([32])\n",
            "Batch input shape: torch.Size([32, 45])\n",
            "Batch target shape: torch.Size([32])\n",
            "Batch input shape: torch.Size([32, 66])\n",
            "Batch target shape: torch.Size([32])\n",
            "Batch input shape: torch.Size([32, 79])\n",
            "Batch target shape: torch.Size([32])\n",
            "Batch input shape: torch.Size([32, 86])\n",
            "Batch target shape: torch.Size([32])\n",
            "Batch input shape: torch.Size([32, 74])\n",
            "Batch target shape: torch.Size([32])\n",
            "Batch input shape: torch.Size([32, 78])\n",
            "Batch target shape: torch.Size([32])\n",
            "Batch input shape: torch.Size([32, 47])\n",
            "Batch target shape: torch.Size([32])\n",
            "Batch input shape: torch.Size([32, 50])\n",
            "Batch target shape: torch.Size([32])\n",
            "Batch input shape: torch.Size([32, 116])\n",
            "Batch target shape: torch.Size([32])\n",
            "Batch input shape: torch.Size([32, 77])\n",
            "Batch target shape: torch.Size([32])\n",
            "Batch input shape: torch.Size([32, 62])\n",
            "Batch target shape: torch.Size([32])\n",
            "Batch input shape: torch.Size([32, 74])\n",
            "Batch target shape: torch.Size([32])\n",
            "Batch input shape: torch.Size([32, 74])\n",
            "Batch target shape: torch.Size([32])\n",
            "Batch input shape: torch.Size([32, 80])\n",
            "Batch target shape: torch.Size([32])\n",
            "Batch input shape: torch.Size([32, 75])\n",
            "Batch target shape: torch.Size([32])\n",
            "Batch input shape: torch.Size([32, 76])\n",
            "Batch target shape: torch.Size([32])\n",
            "Batch input shape: torch.Size([32, 85])\n",
            "Batch target shape: torch.Size([32])\n",
            "Batch input shape: torch.Size([32, 78])\n",
            "Batch target shape: torch.Size([32])\n",
            "Batch input shape: torch.Size([32, 70])\n",
            "Batch target shape: torch.Size([32])\n",
            "Batch input shape: torch.Size([32, 71])\n",
            "Batch target shape: torch.Size([32])\n",
            "Batch input shape: torch.Size([32, 84])\n",
            "Batch target shape: torch.Size([32])\n",
            "Batch input shape: torch.Size([32, 72])\n",
            "Batch target shape: torch.Size([32])\n",
            "Batch input shape: torch.Size([32, 77])\n",
            "Batch target shape: torch.Size([32])\n",
            "Batch input shape: torch.Size([32, 80])\n",
            "Batch target shape: torch.Size([32])\n",
            "Batch input shape: torch.Size([32, 47])\n",
            "Batch target shape: torch.Size([32])\n",
            "Batch input shape: torch.Size([32, 86])\n",
            "Batch target shape: torch.Size([32])\n",
            "Batch input shape: torch.Size([32, 96])\n",
            "Batch target shape: torch.Size([32])\n",
            "Batch input shape: torch.Size([32, 77])\n",
            "Batch target shape: torch.Size([32])\n",
            "Batch input shape: torch.Size([32, 68])\n",
            "Batch target shape: torch.Size([32])\n",
            "Batch input shape: torch.Size([32, 87])\n",
            "Batch target shape: torch.Size([32])\n",
            "Batch input shape: torch.Size([32, 50])\n",
            "Batch target shape: torch.Size([32])\n",
            "Batch input shape: torch.Size([32, 42])\n",
            "Batch target shape: torch.Size([32])\n",
            "Batch input shape: torch.Size([32, 91])\n",
            "Batch target shape: torch.Size([32])\n",
            "Batch input shape: torch.Size([32, 76])\n",
            "Batch target shape: torch.Size([32])\n",
            "Batch input shape: torch.Size([32, 44])\n",
            "Batch target shape: torch.Size([32])\n",
            "Batch input shape: torch.Size([32, 84])\n",
            "Batch target shape: torch.Size([32])\n",
            "Batch input shape: torch.Size([32, 71])\n",
            "Batch target shape: torch.Size([32])\n",
            "Batch input shape: torch.Size([32, 70])\n",
            "Batch target shape: torch.Size([32])\n",
            "Batch input shape: torch.Size([32, 73])\n",
            "Batch target shape: torch.Size([32])\n",
            "Batch input shape: torch.Size([32, 85])\n",
            "Batch target shape: torch.Size([32])\n",
            "Batch input shape: torch.Size([32, 69])\n",
            "Batch target shape: torch.Size([32])\n",
            "Batch input shape: torch.Size([32, 56])\n",
            "Batch target shape: torch.Size([32])\n",
            "Batch input shape: torch.Size([32, 91])\n",
            "Batch target shape: torch.Size([32])\n",
            "Batch input shape: torch.Size([32, 81])\n",
            "Batch target shape: torch.Size([32])\n",
            "Batch input shape: torch.Size([32, 86])\n",
            "Batch target shape: torch.Size([32])\n",
            "Batch input shape: torch.Size([32, 44])\n",
            "Batch target shape: torch.Size([32])\n",
            "Batch input shape: torch.Size([32, 96])\n",
            "Batch target shape: torch.Size([32])\n",
            "Batch input shape: torch.Size([32, 66])\n",
            "Batch target shape: torch.Size([32])\n",
            "Batch input shape: torch.Size([32, 83])\n",
            "Batch target shape: torch.Size([32])\n",
            "Batch input shape: torch.Size([32, 54])\n",
            "Batch target shape: torch.Size([32])\n",
            "Batch input shape: torch.Size([32, 81])\n",
            "Batch target shape: torch.Size([32])\n",
            "Batch input shape: torch.Size([32, 44])\n",
            "Batch target shape: torch.Size([32])\n",
            "Batch input shape: torch.Size([32, 68])\n",
            "Batch target shape: torch.Size([32])\n",
            "Batch input shape: torch.Size([32, 64])\n",
            "Batch target shape: torch.Size([32])\n",
            "Batch input shape: torch.Size([32, 69])\n",
            "Batch target shape: torch.Size([32])\n",
            "Batch input shape: torch.Size([32, 75])\n",
            "Batch target shape: torch.Size([32])\n",
            "Batch input shape: torch.Size([32, 73])\n",
            "Batch target shape: torch.Size([32])\n",
            "Batch input shape: torch.Size([32, 68])\n",
            "Batch target shape: torch.Size([32])\n",
            "Batch input shape: torch.Size([32, 61])\n",
            "Batch target shape: torch.Size([32])\n",
            "Batch input shape: torch.Size([32, 91])\n",
            "Batch target shape: torch.Size([32])\n",
            "Batch input shape: torch.Size([32, 59])\n",
            "Batch target shape: torch.Size([32])\n",
            "Batch input shape: torch.Size([32, 120])\n",
            "Batch target shape: torch.Size([32])\n",
            "Batch input shape: torch.Size([32, 74])\n",
            "Batch target shape: torch.Size([32])\n",
            "Batch input shape: torch.Size([32, 66])\n",
            "Batch target shape: torch.Size([32])\n",
            "Batch input shape: torch.Size([32, 45])\n",
            "Batch target shape: torch.Size([32])\n",
            "Batch input shape: torch.Size([32, 41])\n",
            "Batch target shape: torch.Size([32])\n",
            "Batch input shape: torch.Size([32, 81])\n",
            "Batch target shape: torch.Size([32])\n",
            "Batch input shape: torch.Size([32, 78])\n",
            "Batch target shape: torch.Size([32])\n",
            "Batch input shape: torch.Size([32, 76])\n",
            "Batch target shape: torch.Size([32])\n",
            "Batch input shape: torch.Size([32, 81])\n",
            "Batch target shape: torch.Size([32])\n",
            "Batch input shape: torch.Size([32, 77])\n",
            "Batch target shape: torch.Size([32])\n",
            "Batch input shape: torch.Size([32, 65])\n",
            "Batch target shape: torch.Size([32])\n",
            "Batch input shape: torch.Size([32, 60])\n",
            "Batch target shape: torch.Size([32])\n",
            "Batch input shape: torch.Size([32, 72])\n",
            "Batch target shape: torch.Size([32])\n",
            "Batch input shape: torch.Size([32, 81])\n",
            "Batch target shape: torch.Size([32])\n",
            "Batch input shape: torch.Size([32, 75])\n",
            "Batch target shape: torch.Size([32])\n",
            "Batch input shape: torch.Size([32, 69])\n",
            "Batch target shape: torch.Size([32])\n",
            "Batch input shape: torch.Size([32, 80])\n",
            "Batch target shape: torch.Size([32])\n",
            "Batch input shape: torch.Size([32, 72])\n",
            "Batch target shape: torch.Size([32])\n",
            "Batch input shape: torch.Size([32, 76])\n",
            "Batch target shape: torch.Size([32])\n",
            "Batch input shape: torch.Size([32, 70])\n",
            "Batch target shape: torch.Size([32])\n",
            "Batch input shape: torch.Size([32, 81])\n",
            "Batch target shape: torch.Size([32])\n",
            "Batch input shape: torch.Size([32, 28])\n",
            "Batch target shape: torch.Size([32])\n",
            "Batch input shape: torch.Size([32, 85])\n",
            "Batch target shape: torch.Size([32])\n",
            "Batch input shape: torch.Size([32, 75])\n",
            "Batch target shape: torch.Size([32])\n",
            "Batch input shape: torch.Size([32, 73])\n",
            "Batch target shape: torch.Size([32])\n",
            "Batch input shape: torch.Size([32, 93])\n",
            "Batch target shape: torch.Size([32])\n",
            "Batch input shape: torch.Size([32, 39])\n",
            "Batch target shape: torch.Size([32])\n",
            "Batch input shape: torch.Size([32, 90])\n",
            "Batch target shape: torch.Size([32])\n",
            "Batch input shape: torch.Size([32, 76])\n",
            "Batch target shape: torch.Size([32])\n",
            "Batch input shape: torch.Size([32, 73])\n",
            "Batch target shape: torch.Size([32])\n",
            "Batch input shape: torch.Size([32, 59])\n",
            "Batch target shape: torch.Size([32])\n",
            "Batch input shape: torch.Size([32, 78])\n",
            "Batch target shape: torch.Size([32])\n",
            "Batch input shape: torch.Size([32, 62])\n",
            "Batch target shape: torch.Size([32])\n",
            "Batch input shape: torch.Size([32, 92])\n",
            "Batch target shape: torch.Size([32])\n",
            "Batch input shape: torch.Size([32, 40])\n",
            "Batch target shape: torch.Size([32])\n",
            "Batch input shape: torch.Size([32, 82])\n",
            "Batch target shape: torch.Size([32])\n",
            "Batch input shape: torch.Size([32, 72])\n",
            "Batch target shape: torch.Size([32])\n",
            "Batch input shape: torch.Size([32, 55])\n",
            "Batch target shape: torch.Size([32])\n",
            "Batch input shape: torch.Size([32, 74])\n",
            "Batch target shape: torch.Size([32])\n",
            "Batch input shape: torch.Size([32, 73])\n",
            "Batch target shape: torch.Size([32])\n",
            "Batch input shape: torch.Size([32, 78])\n",
            "Batch target shape: torch.Size([32])\n",
            "Batch input shape: torch.Size([32, 74])\n",
            "Batch target shape: torch.Size([32])\n",
            "Batch input shape: torch.Size([32, 64])\n",
            "Batch target shape: torch.Size([32])\n",
            "Batch input shape: torch.Size([32, 76])\n",
            "Batch target shape: torch.Size([32])\n",
            "Batch input shape: torch.Size([32, 79])\n",
            "Batch target shape: torch.Size([32])\n",
            "Batch input shape: torch.Size([32, 38])\n",
            "Batch target shape: torch.Size([32])\n",
            "Batch input shape: torch.Size([32, 86])\n",
            "Batch target shape: torch.Size([32])\n",
            "Batch input shape: torch.Size([32, 79])\n",
            "Batch target shape: torch.Size([32])\n",
            "Batch input shape: torch.Size([32, 73])\n",
            "Batch target shape: torch.Size([32])\n",
            "Batch input shape: torch.Size([32, 76])\n",
            "Batch target shape: torch.Size([32])\n",
            "Batch input shape: torch.Size([32, 84])\n",
            "Batch target shape: torch.Size([32])\n",
            "Batch input shape: torch.Size([32, 80])\n",
            "Batch target shape: torch.Size([32])\n",
            "Batch input shape: torch.Size([32, 83])\n",
            "Batch target shape: torch.Size([32])\n",
            "Batch input shape: torch.Size([32, 75])\n",
            "Batch target shape: torch.Size([32])\n",
            "Batch input shape: torch.Size([32, 76])\n",
            "Batch target shape: torch.Size([32])\n",
            "Batch input shape: torch.Size([32, 68])\n",
            "Batch target shape: torch.Size([32])\n",
            "Batch input shape: torch.Size([32, 90])\n",
            "Batch target shape: torch.Size([32])\n",
            "Batch input shape: torch.Size([32, 79])\n",
            "Batch target shape: torch.Size([32])\n",
            "Batch input shape: torch.Size([32, 47])\n",
            "Batch target shape: torch.Size([32])\n",
            "Batch input shape: torch.Size([32, 40])\n",
            "Batch target shape: torch.Size([32])\n",
            "Batch input shape: torch.Size([32, 88])\n",
            "Batch target shape: torch.Size([32])\n",
            "Batch input shape: torch.Size([32, 64])\n",
            "Batch target shape: torch.Size([32])\n",
            "Batch input shape: torch.Size([32, 53])\n",
            "Batch target shape: torch.Size([32])\n",
            "Batch input shape: torch.Size([32, 71])\n",
            "Batch target shape: torch.Size([32])\n",
            "Batch input shape: torch.Size([32, 91])\n",
            "Batch target shape: torch.Size([32])\n",
            "Batch input shape: torch.Size([32, 45])\n",
            "Batch target shape: torch.Size([32])\n",
            "Batch input shape: torch.Size([32, 76])\n",
            "Batch target shape: torch.Size([32])\n",
            "Batch input shape: torch.Size([32, 58])\n",
            "Batch target shape: torch.Size([32])\n",
            "Batch input shape: torch.Size([32, 67])\n",
            "Batch target shape: torch.Size([32])\n",
            "Batch input shape: torch.Size([32, 85])\n",
            "Batch target shape: torch.Size([32])\n",
            "Batch input shape: torch.Size([32, 71])\n",
            "Batch target shape: torch.Size([32])\n",
            "Batch input shape: torch.Size([32, 92])\n",
            "Batch target shape: torch.Size([32])\n",
            "Batch input shape: torch.Size([32, 58])\n",
            "Batch target shape: torch.Size([32])\n",
            "Batch input shape: torch.Size([32, 83])\n",
            "Batch target shape: torch.Size([32])\n",
            "Batch input shape: torch.Size([32, 53])\n",
            "Batch target shape: torch.Size([32])\n",
            "Batch input shape: torch.Size([32, 78])\n",
            "Batch target shape: torch.Size([32])\n",
            "Batch input shape: torch.Size([32, 78])\n",
            "Batch target shape: torch.Size([32])\n",
            "Batch input shape: torch.Size([32, 76])\n",
            "Batch target shape: torch.Size([32])\n",
            "Batch input shape: torch.Size([32, 117])\n",
            "Batch target shape: torch.Size([32])\n",
            "Batch input shape: torch.Size([32, 85])\n",
            "Batch target shape: torch.Size([32])\n",
            "Batch input shape: torch.Size([32, 65])\n",
            "Batch target shape: torch.Size([32])\n",
            "Batch input shape: torch.Size([32, 52])\n",
            "Batch target shape: torch.Size([32])\n",
            "Batch input shape: torch.Size([32, 79])\n",
            "Batch target shape: torch.Size([32])\n",
            "Batch input shape: torch.Size([32, 81])\n",
            "Batch target shape: torch.Size([32])\n",
            "Batch input shape: torch.Size([32, 78])\n",
            "Batch target shape: torch.Size([32])\n",
            "Batch input shape: torch.Size([32, 79])\n",
            "Batch target shape: torch.Size([32])\n",
            "Batch input shape: torch.Size([32, 37])\n",
            "Batch target shape: torch.Size([32])\n",
            "Batch input shape: torch.Size([32, 73])\n",
            "Batch target shape: torch.Size([32])\n",
            "Batch input shape: torch.Size([32, 72])\n",
            "Batch target shape: torch.Size([32])\n",
            "Batch input shape: torch.Size([32, 77])\n",
            "Batch target shape: torch.Size([32])\n",
            "Batch input shape: torch.Size([32, 82])\n",
            "Batch target shape: torch.Size([32])\n",
            "Batch input shape: torch.Size([32, 80])\n",
            "Batch target shape: torch.Size([32])\n",
            "Batch input shape: torch.Size([32, 37])\n",
            "Batch target shape: torch.Size([32])\n",
            "Batch input shape: torch.Size([32, 78])\n",
            "Batch target shape: torch.Size([32])\n",
            "Batch input shape: torch.Size([32, 95])\n",
            "Batch target shape: torch.Size([32])\n",
            "Batch input shape: torch.Size([32, 69])\n",
            "Batch target shape: torch.Size([32])\n",
            "Batch input shape: torch.Size([32, 82])\n",
            "Batch target shape: torch.Size([32])\n",
            "Batch input shape: torch.Size([32, 72])\n",
            "Batch target shape: torch.Size([32])\n",
            "Batch input shape: torch.Size([32, 71])\n",
            "Batch target shape: torch.Size([32])\n",
            "Batch input shape: torch.Size([32, 73])\n",
            "Batch target shape: torch.Size([32])\n",
            "Batch input shape: torch.Size([32, 81])\n",
            "Batch target shape: torch.Size([32])\n",
            "Batch input shape: torch.Size([32, 83])\n",
            "Batch target shape: torch.Size([32])\n",
            "Batch input shape: torch.Size([32, 83])\n",
            "Batch target shape: torch.Size([32])\n",
            "Batch input shape: torch.Size([32, 80])\n",
            "Batch target shape: torch.Size([32])\n",
            "Batch input shape: torch.Size([32, 88])\n",
            "Batch target shape: torch.Size([32])\n",
            "Batch input shape: torch.Size([32, 73])\n",
            "Batch target shape: torch.Size([32])\n",
            "Batch input shape: torch.Size([32, 77])\n",
            "Batch target shape: torch.Size([32])\n",
            "Batch input shape: torch.Size([32, 82])\n",
            "Batch target shape: torch.Size([32])\n",
            "Batch input shape: torch.Size([32, 51])\n",
            "Batch target shape: torch.Size([32])\n",
            "Batch input shape: torch.Size([32, 78])\n",
            "Batch target shape: torch.Size([32])\n",
            "Batch input shape: torch.Size([32, 62])\n",
            "Batch target shape: torch.Size([32])\n",
            "Batch input shape: torch.Size([32, 84])\n",
            "Batch target shape: torch.Size([32])\n",
            "Batch input shape: torch.Size([32, 79])\n",
            "Batch target shape: torch.Size([32])\n",
            "Batch input shape: torch.Size([32, 88])\n",
            "Batch target shape: torch.Size([32])\n",
            "Batch input shape: torch.Size([32, 68])\n",
            "Batch target shape: torch.Size([32])\n",
            "Batch input shape: torch.Size([32, 78])\n",
            "Batch target shape: torch.Size([32])\n",
            "Batch input shape: torch.Size([32, 73])\n",
            "Batch target shape: torch.Size([32])\n",
            "Batch input shape: torch.Size([32, 75])\n",
            "Batch target shape: torch.Size([32])\n",
            "Batch input shape: torch.Size([32, 74])\n",
            "Batch target shape: torch.Size([32])\n",
            "Batch input shape: torch.Size([32, 75])\n",
            "Batch target shape: torch.Size([32])\n",
            "Batch input shape: torch.Size([32, 76])\n",
            "Batch target shape: torch.Size([32])\n",
            "Batch input shape: torch.Size([32, 84])\n",
            "Batch target shape: torch.Size([32])\n",
            "Batch input shape: torch.Size([32, 76])\n",
            "Batch target shape: torch.Size([32])\n",
            "Batch input shape: torch.Size([32, 82])\n",
            "Batch target shape: torch.Size([32])\n",
            "Batch input shape: torch.Size([32, 62])\n",
            "Batch target shape: torch.Size([32])\n",
            "Batch input shape: torch.Size([32, 71])\n",
            "Batch target shape: torch.Size([32])\n",
            "Batch input shape: torch.Size([32, 75])\n",
            "Batch target shape: torch.Size([32])\n",
            "Batch input shape: torch.Size([32, 45])\n",
            "Batch target shape: torch.Size([32])\n",
            "Batch input shape: torch.Size([32, 72])\n",
            "Batch target shape: torch.Size([32])\n",
            "Batch input shape: torch.Size([32, 44])\n",
            "Batch target shape: torch.Size([32])\n",
            "Batch input shape: torch.Size([32, 87])\n",
            "Batch target shape: torch.Size([32])\n",
            "Batch input shape: torch.Size([32, 78])\n",
            "Batch target shape: torch.Size([32])\n",
            "Batch input shape: torch.Size([32, 70])\n",
            "Batch target shape: torch.Size([32])\n",
            "Batch input shape: torch.Size([32, 88])\n",
            "Batch target shape: torch.Size([32])\n",
            "Batch input shape: torch.Size([32, 63])\n",
            "Batch target shape: torch.Size([32])\n",
            "Batch input shape: torch.Size([32, 59])\n",
            "Batch target shape: torch.Size([32])\n",
            "Batch input shape: torch.Size([32, 90])\n",
            "Batch target shape: torch.Size([32])\n",
            "Batch input shape: torch.Size([32, 85])\n",
            "Batch target shape: torch.Size([32])\n",
            "Batch input shape: torch.Size([32, 71])\n",
            "Batch target shape: torch.Size([32])\n",
            "Batch input shape: torch.Size([32, 70])\n",
            "Batch target shape: torch.Size([32])\n",
            "Batch input shape: torch.Size([32, 67])\n",
            "Batch target shape: torch.Size([32])\n",
            "Batch input shape: torch.Size([32, 56])\n",
            "Batch target shape: torch.Size([32])\n",
            "Batch input shape: torch.Size([32, 97])\n",
            "Batch target shape: torch.Size([32])\n",
            "Batch input shape: torch.Size([32, 78])\n",
            "Batch target shape: torch.Size([32])\n",
            "Batch input shape: torch.Size([32, 82])\n",
            "Batch target shape: torch.Size([32])\n",
            "Batch input shape: torch.Size([32, 61])\n",
            "Batch target shape: torch.Size([32])\n",
            "Batch input shape: torch.Size([32, 82])\n",
            "Batch target shape: torch.Size([32])\n",
            "Batch input shape: torch.Size([32, 88])\n",
            "Batch target shape: torch.Size([32])\n",
            "Batch input shape: torch.Size([32, 75])\n",
            "Batch target shape: torch.Size([32])\n",
            "Batch input shape: torch.Size([32, 73])\n",
            "Batch target shape: torch.Size([32])\n",
            "Batch input shape: torch.Size([32, 79])\n",
            "Batch target shape: torch.Size([32])\n",
            "Batch input shape: torch.Size([32, 55])\n",
            "Batch target shape: torch.Size([32])\n",
            "Batch input shape: torch.Size([32, 77])\n",
            "Batch target shape: torch.Size([32])\n",
            "Batch input shape: torch.Size([32, 63])\n",
            "Batch target shape: torch.Size([32])\n",
            "Batch input shape: torch.Size([32, 98])\n",
            "Batch target shape: torch.Size([32])\n",
            "Batch input shape: torch.Size([32, 62])\n",
            "Batch target shape: torch.Size([32])\n",
            "Batch input shape: torch.Size([32, 70])\n",
            "Batch target shape: torch.Size([32])\n",
            "Batch input shape: torch.Size([32, 80])\n",
            "Batch target shape: torch.Size([32])\n",
            "Batch input shape: torch.Size([32, 74])\n",
            "Batch target shape: torch.Size([32])\n",
            "Batch input shape: torch.Size([32, 69])\n",
            "Batch target shape: torch.Size([32])\n",
            "Batch input shape: torch.Size([32, 41])\n",
            "Batch target shape: torch.Size([32])\n",
            "Batch input shape: torch.Size([32, 75])\n",
            "Batch target shape: torch.Size([32])\n",
            "Batch input shape: torch.Size([32, 34])\n",
            "Batch target shape: torch.Size([32])\n",
            "Batch input shape: torch.Size([32, 83])\n",
            "Batch target shape: torch.Size([32])\n",
            "Batch input shape: torch.Size([32, 69])\n",
            "Batch target shape: torch.Size([32])\n",
            "Batch input shape: torch.Size([32, 87])\n",
            "Batch target shape: torch.Size([32])\n",
            "Batch input shape: torch.Size([32, 99])\n",
            "Batch target shape: torch.Size([32])\n",
            "Batch input shape: torch.Size([32, 63])\n",
            "Batch target shape: torch.Size([32])\n",
            "Batch input shape: torch.Size([32, 79])\n",
            "Batch target shape: torch.Size([32])\n",
            "Batch input shape: torch.Size([32, 84])\n",
            "Batch target shape: torch.Size([32])\n",
            "Batch input shape: torch.Size([32, 31])\n",
            "Batch target shape: torch.Size([32])\n",
            "Batch input shape: torch.Size([32, 70])\n",
            "Batch target shape: torch.Size([32])\n",
            "Batch input shape: torch.Size([32, 65])\n",
            "Batch target shape: torch.Size([32])\n",
            "Batch input shape: torch.Size([32, 66])\n",
            "Batch target shape: torch.Size([32])\n",
            "Batch input shape: torch.Size([32, 68])\n",
            "Batch target shape: torch.Size([32])\n",
            "Batch input shape: torch.Size([32, 82])\n",
            "Batch target shape: torch.Size([32])\n",
            "Batch input shape: torch.Size([32, 84])\n",
            "Batch target shape: torch.Size([32])\n",
            "Batch input shape: torch.Size([32, 78])\n",
            "Batch target shape: torch.Size([32])\n",
            "Batch input shape: torch.Size([32, 64])\n",
            "Batch target shape: torch.Size([32])\n",
            "Batch input shape: torch.Size([32, 83])\n",
            "Batch target shape: torch.Size([32])\n",
            "Batch input shape: torch.Size([32, 60])\n",
            "Batch target shape: torch.Size([32])\n",
            "Batch input shape: torch.Size([32, 54])\n",
            "Batch target shape: torch.Size([32])\n",
            "Batch input shape: torch.Size([32, 82])\n",
            "Batch target shape: torch.Size([32])\n",
            "Batch input shape: torch.Size([32, 58])\n",
            "Batch target shape: torch.Size([32])\n",
            "Batch input shape: torch.Size([32, 73])\n",
            "Batch target shape: torch.Size([32])\n",
            "Batch input shape: torch.Size([32, 81])\n",
            "Batch target shape: torch.Size([32])\n",
            "Batch input shape: torch.Size([32, 52])\n",
            "Batch target shape: torch.Size([32])\n",
            "Batch input shape: torch.Size([32, 61])\n",
            "Batch target shape: torch.Size([32])\n",
            "Batch input shape: torch.Size([32, 75])\n",
            "Batch target shape: torch.Size([32])\n",
            "Batch input shape: torch.Size([32, 72])\n",
            "Batch target shape: torch.Size([32])\n",
            "Batch input shape: torch.Size([32, 80])\n",
            "Batch target shape: torch.Size([32])\n",
            "Batch input shape: torch.Size([32, 91])\n",
            "Batch target shape: torch.Size([32])\n",
            "Batch input shape: torch.Size([32, 77])\n",
            "Batch target shape: torch.Size([32])\n",
            "Batch input shape: torch.Size([32, 85])\n",
            "Batch target shape: torch.Size([32])\n",
            "Batch input shape: torch.Size([32, 51])\n",
            "Batch target shape: torch.Size([32])\n",
            "Batch input shape: torch.Size([32, 52])\n",
            "Batch target shape: torch.Size([32])\n",
            "Batch input shape: torch.Size([32, 46])\n",
            "Batch target shape: torch.Size([32])\n",
            "Batch input shape: torch.Size([32, 82])\n",
            "Batch target shape: torch.Size([32])\n",
            "Batch input shape: torch.Size([32, 88])\n",
            "Batch target shape: torch.Size([32])\n",
            "Batch input shape: torch.Size([32, 50])\n",
            "Batch target shape: torch.Size([32])\n",
            "Batch input shape: torch.Size([32, 80])\n",
            "Batch target shape: torch.Size([32])\n",
            "Batch input shape: torch.Size([32, 86])\n",
            "Batch target shape: torch.Size([32])\n",
            "Batch input shape: torch.Size([32, 76])\n",
            "Batch target shape: torch.Size([32])\n",
            "Batch input shape: torch.Size([32, 78])\n",
            "Batch target shape: torch.Size([32])\n",
            "Batch input shape: torch.Size([32, 56])\n",
            "Batch target shape: torch.Size([32])\n",
            "Batch input shape: torch.Size([32, 66])\n",
            "Batch target shape: torch.Size([32])\n",
            "Batch input shape: torch.Size([32, 77])\n",
            "Batch target shape: torch.Size([32])\n",
            "Batch input shape: torch.Size([32, 67])\n",
            "Batch target shape: torch.Size([32])\n",
            "Batch input shape: torch.Size([32, 95])\n",
            "Batch target shape: torch.Size([32])\n",
            "Batch input shape: torch.Size([32, 77])\n",
            "Batch target shape: torch.Size([32])\n",
            "Batch input shape: torch.Size([32, 68])\n",
            "Batch target shape: torch.Size([32])\n",
            "Batch input shape: torch.Size([32, 57])\n",
            "Batch target shape: torch.Size([32])\n",
            "Batch input shape: torch.Size([32, 78])\n",
            "Batch target shape: torch.Size([32])\n",
            "Batch input shape: torch.Size([32, 88])\n",
            "Batch target shape: torch.Size([32])\n",
            "Batch input shape: torch.Size([8, 80])\n",
            "Batch target shape: torch.Size([8])\n"
          ]
        }
      ]
    },
    {
      "cell_type": "code",
      "execution_count": null,
      "metadata": {
        "id": "aDZ38Taw75eu",
        "colab": {
          "base_uri": "https://localhost:8080/"
        },
        "outputId": "83e977cd-98af-4d13-e4e6-5c39aff34a49"
      },
      "outputs": [
        {
          "output_type": "stream",
          "name": "stdout",
          "text": [
            "Batch input shape: torch.Size([64, 82])\n",
            "Batch target shape: torch.Size([64])\n",
            "Batch input shape: torch.Size([64, 69])\n",
            "Batch target shape: torch.Size([64])\n",
            "Batch input shape: torch.Size([64, 84])\n",
            "Batch target shape: torch.Size([64])\n",
            "Batch input shape: torch.Size([64, 82])\n",
            "Batch target shape: torch.Size([64])\n",
            "Batch input shape: torch.Size([64, 81])\n",
            "Batch target shape: torch.Size([64])\n",
            "Batch input shape: torch.Size([64, 77])\n",
            "Batch target shape: torch.Size([64])\n",
            "Batch input shape: torch.Size([64, 76])\n",
            "Batch target shape: torch.Size([64])\n",
            "Batch input shape: torch.Size([64, 87])\n",
            "Batch target shape: torch.Size([64])\n",
            "Batch input shape: torch.Size([64, 57])\n",
            "Batch target shape: torch.Size([64])\n",
            "Batch input shape: torch.Size([64, 70])\n",
            "Batch target shape: torch.Size([64])\n",
            "Batch input shape: torch.Size([64, 89])\n",
            "Batch target shape: torch.Size([64])\n",
            "Batch input shape: torch.Size([64, 66])\n",
            "Batch target shape: torch.Size([64])\n",
            "Batch input shape: torch.Size([64, 95])\n",
            "Batch target shape: torch.Size([64])\n",
            "Batch input shape: torch.Size([64, 93])\n",
            "Batch target shape: torch.Size([64])\n",
            "Batch input shape: torch.Size([64, 71])\n",
            "Batch target shape: torch.Size([64])\n",
            "Batch input shape: torch.Size([40, 85])\n",
            "Batch target shape: torch.Size([40])\n"
          ]
        }
      ],
      "source": [
        "# 배치마다 토큰 길이가 다른 것을 확인\n",
        "for input_batch, target_batch in valid_dataloader:\n",
        "  print(f\"Batch input shape: {input_batch['input_ids'].shape}\")\n",
        "  print(f\"Batch target shape: {target_batch.shape}\")"
      ]
    },
    {
      "cell_type": "markdown",
      "metadata": {
        "id": "0K9zzAltk2ts"
      },
      "source": [
        "## Advanced"
      ]
    },
    {
      "cell_type": "markdown",
      "metadata": {
        "id": "2r2Pz_1nk2ts"
      },
      "source": [
        "### 어제(week2-2) 생성한 `train()` 함수의 입력값이었던 `data_iterator`를  `data_loader`로 변경"
      ]
    },
    {
      "cell_type": "code",
      "execution_count": null,
      "metadata": {
        "id": "U0WbqVv62Zvy"
      },
      "outputs": [],
      "source": [
        "import torch.nn as nn\n",
        "import torch.nn.functional as F\n",
        "from torch.optim import AdamW\n",
        "from torch.nn import CrossEntropyLoss"
      ]
    },
    {
      "cell_type": "code",
      "execution_count": null,
      "metadata": {
        "id": "aw6VaI2yk2tt"
      },
      "outputs": [],
      "source": [
        "def train(model, data_loader):\n",
        "  global loss_fct\n",
        "\n",
        "  # 배치 단위 평균 loss와 총 평균 loss 계산하기위해 변수 생성\n",
        "  total_loss, batch_loss, batch_count = 0,0,0\n",
        "  \n",
        "  # model을 train 모드로 설정 & device 할당\n",
        "  model.train()\n",
        "  model.to(device)\n",
        "\n",
        "  loss_list = []\n",
        "  # data iterator를 돌면서 하나씩 학습\n",
        "  for step, batch in enumerate(data_loader):\n",
        "      batch_count+=1\n",
        "      \n",
        "      # tensor 연산 전, 각 tensor에 device 할당\n",
        "      batch = tuple(item.to(device) for item in batch)\n",
        "      \n",
        "      batch_input, batch_label = batch\n",
        "      \n",
        "      # batch마다 모델이 갖고 있는 기존 gradient를 초기화\n",
        "      model.zero_grad()\n",
        "      \n",
        "      # forward\n",
        "      logits = model(**batch_input)\n",
        "      \n",
        "      # loss\n",
        "      loss = loss_fct(logits, batch_label)\n",
        "      batch_loss += loss.item()\n",
        "      total_loss += loss.item()\n",
        "      \n",
        "      # backward -> 파라미터의 미분(gradient)를 자동으로 계산\n",
        "      loss.backward()\n",
        "      \n",
        "      # optimizer 업데이트\n",
        "      optimizer.step()\n",
        "      \n",
        "      # 배치 10개씩 처리할 때마다 평균 loss를 출력\n",
        "      if (step % 10 == 0 and step != 0):\n",
        "          print(f\"Step : {step}, Avg Loss : {batch_loss / batch_count:.4f}\")\n",
        "          loss_list.append(batch_loss / batch_count)\n",
        "          # 변수 초기화 \n",
        "          batch_loss, batch_count = 0,0\n",
        "  \n",
        "  print(f\"Mean Loss : {total_loss/(step+1):.4f}\")\n",
        "  print(\"Train Finished\")\n",
        "\n",
        "  return loss_list"
      ]
    },
    {
      "cell_type": "markdown",
      "metadata": {
        "id": "j2XneduTk2tt"
      },
      "source": [
        "### 지금까지 구현한 함수와 클래스를 모두 불러와 `train()` 함수를 실행하자\n",
        "- fine-tuning 모델 클래스 (`CustomClassifier`)\n",
        "    - hidden_size = 768\n",
        "    - n_label = 2\n",
        "- 데이터 이터레이터 함수 (`data_iterator`)\n",
        "    - batch_size = 32\n",
        "- loss \n",
        "    - `CrossEntropyLoss()`\n",
        "- optimizer\n",
        "    - `AdamW()`\n",
        "    - lr = 2e-5\n"
      ]
    },
    {
      "cell_type": "code",
      "execution_count": null,
      "metadata": {
        "id": "Im98H4-U1eQQ"
      },
      "outputs": [],
      "source": [
        "# Week2-2에서 구현한 클래스와 동일\n",
        "\n",
        "class CustomClassifier(nn.Module):\n",
        "\n",
        "  def __init__(self, hidden_size: int, n_label: int):\n",
        "    super(CustomClassifier, self).__init__()\n",
        "\n",
        "    self.bert = BertModel.from_pretrained(\"klue/bert-base\")\n",
        "\n",
        "    dropout_rate = 0.1\n",
        "    linear_layer_hidden_size = 32\n",
        "\n",
        "    self.classifier = nn.Sequential(\n",
        "        nn.Linear(hidden_size, linear_layer_hidden_size),\n",
        "        nn.ReLU(),\n",
        "        nn.Dropout(),\n",
        "        nn.Linear(linear_layer_hidden_size, n_label)\n",
        "    )\n",
        "\n",
        "  \n",
        "  def forward(self, input_ids=None, attention_mask=None, token_type_ids=None):\n",
        "    outputs = self.bert(\n",
        "        input_ids, attention_mask=attention_mask, token_type_ids = token_type_ids\n",
        "    )\n",
        "\n",
        "    cls_token_last_hidden_states = outputs['pooler_output']\n",
        "    logits = self.classifier(cls_token_last_hidden_states)\n",
        "    \n",
        "    return logits"
      ]
    },
    {
      "cell_type": "code",
      "execution_count": null,
      "metadata": {
        "id": "w1ix-0Ztk2tu",
        "colab": {
          "base_uri": "https://localhost:8080/"
        },
        "outputId": "917ca6b0-127e-4723-de68-b4f842765e3a"
      },
      "outputs": [
        {
          "output_type": "stream",
          "name": "stderr",
          "text": [
            "Some weights of the model checkpoint at klue/bert-base were not used when initializing BertModel: ['cls.predictions.decoder.weight', 'cls.predictions.decoder.bias', 'cls.predictions.transform.dense.weight', 'cls.seq_relationship.weight', 'cls.predictions.transform.LayerNorm.weight', 'cls.seq_relationship.bias', 'cls.predictions.transform.LayerNorm.bias', 'cls.predictions.bias', 'cls.predictions.transform.dense.bias']\n",
            "- This IS expected if you are initializing BertModel from the checkpoint of a model trained on another task or with another architecture (e.g. initializing a BertForSequenceClassification model from a BertForPreTraining model).\n",
            "- This IS NOT expected if you are initializing BertModel from the checkpoint of a model that you expect to be exactly identical (initializing a BertForSequenceClassification model from a BertForSequenceClassification model).\n"
          ]
        },
        {
          "output_type": "stream",
          "name": "stdout",
          "text": [
            "Step : 10, Avg Loss : 0.6808\n",
            "Step : 20, Avg Loss : 0.6595\n",
            "Step : 30, Avg Loss : 0.6137\n",
            "Step : 40, Avg Loss : 0.5605\n",
            "Step : 50, Avg Loss : 0.5337\n",
            "Step : 60, Avg Loss : 0.4581\n",
            "Step : 70, Avg Loss : 0.4604\n",
            "Step : 80, Avg Loss : 0.3747\n",
            "Step : 90, Avg Loss : 0.4246\n",
            "Step : 100, Avg Loss : 0.4744\n",
            "Step : 110, Avg Loss : 0.3508\n",
            "Step : 120, Avg Loss : 0.3900\n",
            "Step : 130, Avg Loss : 0.4494\n",
            "Step : 140, Avg Loss : 0.4216\n",
            "Step : 150, Avg Loss : 0.4357\n",
            "Step : 160, Avg Loss : 0.3818\n",
            "Step : 170, Avg Loss : 0.3794\n",
            "Step : 180, Avg Loss : 0.3763\n",
            "Step : 190, Avg Loss : 0.3915\n",
            "Step : 200, Avg Loss : 0.3573\n",
            "Step : 210, Avg Loss : 0.3815\n",
            "Step : 220, Avg Loss : 0.4136\n",
            "Step : 230, Avg Loss : 0.3586\n",
            "Step : 240, Avg Loss : 0.3589\n",
            "Step : 250, Avg Loss : 0.3580\n",
            "Step : 260, Avg Loss : 0.2925\n",
            "Step : 270, Avg Loss : 0.3529\n",
            "Step : 280, Avg Loss : 0.3186\n",
            "Mean Loss : 0.4288\n",
            "Train Finished\n"
          ]
        }
      ],
      "source": [
        "# 모델\n",
        "model = CustomClassifier(768, 2)\n",
        "\n",
        "# 데이터로더\n",
        "batch_size = 32\n",
        "train_dataloader = DataLoader(train_dataset, batch_size=batch_size,sampler=train_sampler, collate_fn=custom_collate_fn)\n",
        "\n",
        "# 로스 및 옵티마이저\n",
        "loss_fct = CrossEntropyLoss()\n",
        "optimizer = AdamW(\n",
        "    model.parameters(),\n",
        "    lr=2e-5,\n",
        "    eps=1e-8\n",
        ")\n",
        "\n",
        "# 학습 시작\n",
        "loss_result = train(model, train_dataloader)"
      ]
    },
    {
      "cell_type": "markdown",
      "source": [
        "### 학습 결과"
      ],
      "metadata": {
        "id": "8hawEXn1Su80"
      }
    },
    {
      "cell_type": "code",
      "source": [
        "import matplotlib.pyplot as plt\n",
        "\n",
        "fig, ax = plt.subplots(figsize=(15,10))\n",
        "ax.plot(loss_result)\n",
        "ax.legend()\n",
        "plt.xticks(ticks=range(len(loss_result)),labels=range(10,281,10))\n",
        "plt.xlabel('epoch')\n",
        "plt.ylabel('loss')\n",
        "\n",
        "plt.show()"
      ],
      "metadata": {
        "colab": {
          "base_uri": "https://localhost:8080/",
          "height": 626
        },
        "id": "brWRDIVoOLFK",
        "outputId": "03635437-9c00-4209-f202-99874d1da8d4"
      },
      "execution_count": null,
      "outputs": [
        {
          "output_type": "stream",
          "name": "stderr",
          "text": [
            "No handles with labels found to put in legend.\n"
          ]
        },
        {
          "output_type": "display_data",
          "data": {
            "image/png": "[encoded data removed]",
            "text/plain": [
              "<Figure size 1080x720 with 1 Axes>"
            ]
          },
          "metadata": {
            "needs_background": "light"
          }
        }
      ]
    }
  ],
  "metadata": {
    "accelerator": "GPU",
    "colab": {
      "collapsed_sections": [],
      "name": "4팀_최혜림 - Week2_3_assignment.ipynb의 사본",
      "provenance": [],
      "include_colab_link": true
    },
    "kernelspec": {
      "display_name": "torch",
      "language": "python",
      "name": "torch"
    },
    "language_info": {
      "codemirror_mode": {
        "name": "ipython",
        "version": 3
      },
      "file_extension": ".py",
      "mimetype": "text/x-python",
      "name": "python",
      "nbconvert_exporter": "python",
      "pygments_lexer": "ipython3",
      "version": "3.8.11"
    }
  },
  "nbformat": 4,
  "nbformat_minor": 0
}
